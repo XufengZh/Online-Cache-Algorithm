{
 "cells": [
  {
   "cell_type": "code",
   "execution_count": 1,
   "id": "8b569c65",
   "metadata": {},
   "outputs": [],
   "source": [
    "import numpy as np\n",
    "import pandas as pd\n",
    "import cvxpy as cp\n",
    "import copy"
   ]
  },
  {
   "cell_type": "code",
   "execution_count": 2,
   "id": "2a959434",
   "metadata": {},
   "outputs": [],
   "source": [
    "# Parameter defination\n",
    "T = 100\n",
    "max_cache_size = 100\n",
    "until = []\n",
    "files = 1000\n",
    "locations = 4\n",
    "caches = 3\n",
    "action_dim = files*locations*caches+files*caches\n",
    "l = np.array([[1, 1, 0],\n",
    "              [1, 1, 0],\n",
    "              [0, 1, 1],\n",
    "              [0, 1, 1]\n",
    "              ])\n",
    "utils = np.tile(np.array([1, 2, 100]), (1, files * locations))[0]"
   ]
  },
  {
   "cell_type": "code",
   "execution_count": 3,
   "id": "7afcac23",
   "metadata": {},
   "outputs": [],
   "source": [
    "#other defination\n",
    "z_dim = files * locations * caches\n",
    "y_dim = files * caches\n",
    "z = cp.Variable(z_dim)\n",
    "y = cp.Variable(y_dim)\n",
    "x = cp.hstack([z, y]) \n",
    "acc_grads = np.zeros(z_dim)\n",
    "\n",
    "actions = []\n",
    "grads = []\n",
    "acc_sigma = 0\n",
    "acc_sigma_action = 0\n",
    "sigmas = []\n",
    "etas = []\n",
    "acc_grad_square = 0\n",
    "R = np.sqrt(2 * caches * max_cache_size + 2)"
   ]
  },
  {
   "cell_type": "code",
   "execution_count": 4,
   "id": "bc7267e2",
   "metadata": {},
   "outputs": [],
   "source": [
    "# Constraints \n",
    "standard_constraints = []\n",
    "# Contrains of y\n",
    "standard_constraints.extend([y >= 0, y <= 1]) # Basic defination\n",
    "y_consts_mat = []\n",
    "for cache_idx in range(caches):\n",
    "    const_coeff = np.zeros(files * caches)\n",
    "    const_coeff[cache_idx::caches] = 1\n",
    "    y_consts_mat.append(copy.deepcopy(const_coeff))\n",
    "y_consts_mat = np.array([np.array(constraint) for constraint in y_consts_mat])\n",
    "standard_constraints.extend([y_consts_mat @ y <= max_cache_size])\n",
    "# Constrains of z\n",
    "standard_constraints.extend([z >= 0, z <= 1]) # Defination of z\n",
    "z_consts_mat = []\n",
    "for ni in range(files * locations):\n",
    "    start = ni * (caches)\n",
    "    end = (ni + 1) * (caches)\n",
    "    const_coeff = np.zeros(files * locations * caches)\n",
    "    const_coeff[start: end] = 1\n",
    "    z_consts_mat.append(copy.deepcopy(const_coeff))\n",
    "z_consts_mat = np.array([np.array(constraint) for constraint in z_consts_mat])\n",
    "standard_constraints.extend([z_consts_mat @ z <= 1]) \n",
    "# Constrains of min problem\n",
    "fl = l.flatten()\n",
    "extended_fl = np.concatenate([fl for i in range(files)]).ravel()\n",
    "sl = []\n",
    "for p in range(files):\n",
    "    start = caches * p\n",
    "    end = caches * (p + 1)\n",
    "    for pp in range(locations):\n",
    "        sl.append(y[start:end])\n",
    "y_comp = cp.hstack(sl)\n",
    "standard_constraints.extend([z <= cp.multiply(y_comp, extended_fl)])"
   ]
  },
  {
   "cell_type": "code",
   "execution_count": 5,
   "id": "4c4aa994",
   "metadata": {},
   "outputs": [],
   "source": [
    "# Optimization Problem\n",
    "non_projected_sol_parameter = cp.Parameter(z_dim + y_dim)\n",
    "objective = cp.Minimize(cp.sum_squares(x - non_projected_sol_parameter))\n",
    "prob = cp.Problem(objective, standard_constraints)"
   ]
  },
  {
   "cell_type": "code",
   "execution_count": 6,
   "id": "3c237046",
   "metadata": {},
   "outputs": [],
   "source": [
    "# Functions\n",
    "def cal_sigma(acc_grad_square,sigmas,etas,R,pred):\n",
    "    if not sigmas:  # no grads yet\n",
    "        etas.append(1)  # for t=0\n",
    "        sigmas.append(1 / etas[-1])  # from McMahan \\sigma_0  = 1 / \\eta_0\n",
    "    else:\n",
    "        acc_grad_square += np.linalg.norm(grads[-1] - pred, 2) ** 2\n",
    "        etas.append(np.sqrt(2) * R / np.sqrt(acc_grad_square))  # this will be the second eta, after 0\n",
    "        sigmas.append(1 / etas[-1] - 1 / etas[-2])\n",
    "    return acc_grad_square,sigmas,etas\n",
    "\n",
    "def step(proba,actions,acc_sigma,acc_sigma_action,acc_grads, grad,etas,x,acc_grad_square):\n",
    "    pred = get_prediction(proba,locations,files,caches,grad)\n",
    "    \n",
    "\n",
    "    if not actions:  # first action, minimize r_0, returning 0 because it assumed to be ||x||\n",
    "        yy = np.random.rand(z_dim + y_dim)\n",
    "        objective = cp.Minimize(cp.sum_squares(x - yy))\n",
    "    else:\n",
    "        # calculating x\n",
    "        if acc_sigma > 0:\n",
    "            padded_pred = np.pad(pred, (0, files * caches), 'constant')\n",
    "            padded_acc_grad = np.pad(acc_grads, (0, files * caches), 'constant')\n",
    "            # yy = (acc_sigma_action - (padded_acc_grad + padded_pred)) / acc_sigma \n",
    "            yy = (acc_sigma_action + (padded_acc_grad + padded_pred)) / acc_sigma  \n",
    "            objective = cp.Minimize(cp.sum_squares(x - yy))\n",
    "\n",
    "        else:   \n",
    "            a = np.pad(acc_grads + pred, (0, files * caches), 'constant')\n",
    "            objective = cp.Maximize(a @ x)\n",
    "            \n",
    "\n",
    "    # Projection\n",
    "    #if acc_sigma > 0 or not actions:\n",
    "    #    objective = cp.Minimize(cp.sum_squares(x - yy))\n",
    "    #    non_projected_sol_parameter.value = yy\n",
    "    #    result = prob.solve(warm_start=True)\n",
    "    \n",
    "    prob = cp.Problem(objective, standard_constraints)\n",
    "    result = prob.solve(warm_start=True)\n",
    "    x = cp.hstack([z, y])\n",
    "    actions.append(x.value)\n",
    "    \n",
    "\n",
    "    # preparing params for next round\n",
    "    grads.append(grad)\n",
    "    acc_grads += grads[-1]\n",
    "    acc_grad_square,new_sigmas,etas = cal_sigma(acc_grad_square,sigmas,etas,R,pred)\n",
    "    acc_sigma += new_sigmas[-1]\n",
    "    acc_sigma_action += new_sigmas[-1] * actions[-1]\n",
    "\n",
    "    return x.value, z, y, grads,acc_grads, acc_sigma, acc_sigma_action, actions, etas, new_sigmas,x,acc_grad_square"
   ]
  },
  {
   "cell_type": "code",
   "execution_count": 7,
   "id": "561e7831",
   "metadata": {
    "scrolled": true
   },
   "outputs": [],
   "source": [
    "def generate_c(locations,files, caches, utils):\n",
    "    r = [np.zeros(locations) for i in range(files)]\n",
    "    location = np.random.choice(range(locations))\n",
    "    requested_id = np.random.randint(0,files)\n",
    "    r[requested_id][location] = 1\n",
    "\n",
    "    r = np.concatenate(r).ravel() \n",
    "    extended_r = np.repeat(r, caches)\n",
    "    coeff = utils * extended_r\n",
    "    return coeff\n",
    "\n",
    "def get_prediction(proba,locations,files,caches,grad):  # grad is the true grad\n",
    "    if np.random.random(1) <= proba:\n",
    "        pred = grad\n",
    "    else:\n",
    "        r = [np.zeros(locations) for i in range(files)]\n",
    "        location = np.random.choice(range(locations))\n",
    "        requested_id = np.random.randint(low=0, high=files)\n",
    "\n",
    "        r[requested_id][location] = 1\n",
    "        r = np.concatenate(r).ravel()  \n",
    "        extended_r = np.repeat(r, caches)\n",
    "        coeff = utils * extended_r\n",
    "        pred = coeff\n",
    "    return pred\n",
    "        \n"
   ]
  },
  {
   "cell_type": "code",
   "execution_count": null,
   "id": "e587afe7",
   "metadata": {},
   "outputs": [
    {
     "name": "stdout",
     "output_type": "stream",
     "text": [
      "[-0.0002531939827428085]\n"
     ]
    },
    {
     "name": "stderr",
     "output_type": "stream",
     "text": [
      "/var/folders/75/f6xqg0dd3fn_kbtrm4x_1qd80000gn/T/ipykernel_19523/4096339829.py:8: RuntimeWarning: divide by zero encountered in double_scalars\n",
      "  etas.append(np.sqrt(2) * R / np.sqrt(acc_grad_square))  # this will be the second eta, after 0\n"
     ]
    },
    {
     "name": "stdout",
     "output_type": "stream",
     "text": [
      "[-0.0002531939827428085, 40.12848490264103]\n",
      "[-0.0002531939827428085, 40.12848490264103, -0.0002485288687955774]\n",
      "[-0.0002531939827428085, 40.12848490264103, -0.0002485288687955774, 0.24091708213757637]\n",
      "[-0.0002531939827428085, 40.12848490264103, -0.0002485288687955774, 0.24091708213757637, 0.27071577443658057]\n",
      "[-0.0002531939827428085, 40.12848490264103, -0.0002485288687955774, 0.24091708213757637, 0.27071577443658057, 38.51824934751311]\n",
      "[-0.0002531939827428085, 40.12848490264103, -0.0002485288687955774, 0.24091708213757637, 0.27071577443658057, 38.51824934751311, 0.3182024781519434]\n",
      "[-0.0002531939827428085, 40.12848490264103, -0.0002485288687955774, 0.24091708213757637, 0.27071577443658057, 38.51824934751311, 0.3182024781519434, 37.03323636381971]\n",
      "[-0.0002531939827428085, 40.12848490264103, -0.0002485288687955774, 0.24091708213757637, 0.27071577443658057, 38.51824934751311, 0.3182024781519434, 37.03323636381971, 0.1999038070592619]\n",
      "[-0.0002531939827428085, 40.12848490264103, -0.0002485288687955774, 0.24091708213757637, 0.27071577443658057, 38.51824934751311, 0.3182024781519434, 37.03323636381971, 0.1999038070592619, 0.2867034523739149]\n",
      "[-0.0002531939827428085, 40.12848490264103, -0.0002485288687955774, 0.24091708213757637, 0.27071577443658057, 38.51824934751311, 0.3182024781519434, 37.03323636381971, 0.1999038070592619, 0.2867034523739149, 13.987335840524933]\n",
      "[-0.0002531939827428085, 40.12848490264103, -0.0002485288687955774, 0.24091708213757637, 0.27071577443658057, 38.51824934751311, 0.3182024781519434, 37.03323636381971, 0.1999038070592619, 0.2867034523739149, 13.987335840524933, 18.213400092717492]\n",
      "[-0.0002531939827428085, 40.12848490264103, -0.0002485288687955774, 0.24091708213757637, 0.27071577443658057, 38.51824934751311, 0.3182024781519434, 37.03323636381971, 0.1999038070592619, 0.2867034523739149, 13.987335840524933, 18.213400092717492, 0.2958651602844028]\n",
      "[-0.0002531939827428085, 40.12848490264103, -0.0002485288687955774, 0.24091708213757637, 0.27071577443658057, 38.51824934751311, 0.3182024781519434, 37.03323636381971, 0.1999038070592619, 0.2867034523739149, 13.987335840524933, 18.213400092717492, 0.2958651602844028, -0.015947400025062404]\n",
      "[-0.0002531939827428085, 40.12848490264103, -0.0002485288687955774, 0.24091708213757637, 0.27071577443658057, 38.51824934751311, 0.3182024781519434, 37.03323636381971, 0.1999038070592619, 0.2867034523739149, 13.987335840524933, 18.213400092717492, 0.2958651602844028, -0.015947400025062404, 0.05939700725195069]\n",
      "[-0.0002531939827428085, 40.12848490264103, -0.0002485288687955774, 0.24091708213757637, 0.27071577443658057, 38.51824934751311, 0.3182024781519434, 37.03323636381971, 0.1999038070592619, 0.2867034523739149, 13.987335840524933, 18.213400092717492, 0.2958651602844028, -0.015947400025062404, 0.05939700725195069, 0.40293438452099534]\n",
      "[-0.0002531939827428085, 40.12848490264103, -0.0002485288687955774, 0.24091708213757637, 0.27071577443658057, 38.51824934751311, 0.3182024781519434, 37.03323636381971, 0.1999038070592619, 0.2867034523739149, 13.987335840524933, 18.213400092717492, 0.2958651602844028, -0.015947400025062404, 0.05939700725195069, 0.40293438452099534, 0.31437406999810896]\n",
      "[-0.0002531939827428085, 40.12848490264103, -0.0002485288687955774, 0.24091708213757637, 0.27071577443658057, 38.51824934751311, 0.3182024781519434, 37.03323636381971, 0.1999038070592619, 0.2867034523739149, 13.987335840524933, 18.213400092717492, 0.2958651602844028, -0.015947400025062404, 0.05939700725195069, 0.40293438452099534, 0.31437406999810896, 0.3772031800270431]\n",
      "[-0.0002531939827428085, 40.12848490264103, -0.0002485288687955774, 0.24091708213757637, 0.27071577443658057, 38.51824934751311, 0.3182024781519434, 37.03323636381971, 0.1999038070592619, 0.2867034523739149, 13.987335840524933, 18.213400092717492, 0.2958651602844028, -0.015947400025062404, 0.05939700725195069, 0.40293438452099534, 0.31437406999810896, 0.3772031800270431, -0.00591292649699076]\n",
      "[-0.0002531939827428085, 40.12848490264103, -0.0002485288687955774, 0.24091708213757637, 0.27071577443658057, 38.51824934751311, 0.3182024781519434, 37.03323636381971, 0.1999038070592619, 0.2867034523739149, 13.987335840524933, 18.213400092717492, 0.2958651602844028, -0.015947400025062404, 0.05939700725195069, 0.40293438452099534, 0.31437406999810896, 0.3772031800270431, -0.00591292649699076, 0.2734851844564202]\n",
      "[-0.0002531939827428085, 40.12848490264103, -0.0002485288687955774, 0.24091708213757637, 0.27071577443658057, 38.51824934751311, 0.3182024781519434, 37.03323636381971, 0.1999038070592619, 0.2867034523739149, 13.987335840524933, 18.213400092717492, 0.2958651602844028, -0.015947400025062404, 0.05939700725195069, 0.40293438452099534, 0.31437406999810896, 0.3772031800270431, -0.00591292649699076, 0.2734851844564202, 13.772500804658884]\n",
      "[-0.0002531939827428085, 40.12848490264103, -0.0002485288687955774, 0.24091708213757637, 0.27071577443658057, 38.51824934751311, 0.3182024781519434, 37.03323636381971, 0.1999038070592619, 0.2867034523739149, 13.987335840524933, 18.213400092717492, 0.2958651602844028, -0.015947400025062404, 0.05939700725195069, 0.40293438452099534, 0.31437406999810896, 0.3772031800270431, -0.00591292649699076, 0.2734851844564202, 13.772500804658884, -0.0002302935937534697]\n",
      "[-0.0002531939827428085, 40.12848490264103, -0.0002485288687955774, 0.24091708213757637, 0.27071577443658057, 38.51824934751311, 0.3182024781519434, 37.03323636381971, 0.1999038070592619, 0.2867034523739149, 13.987335840524933, 18.213400092717492, 0.2958651602844028, -0.015947400025062404, 0.05939700725195069, 0.40293438452099534, 0.31437406999810896, 0.3772031800270431, -0.00591292649699076, 0.2734851844564202, 13.772500804658884, -0.0002302935937534697, 38.51823277603338]\n"
     ]
    }
   ],
   "source": [
    "# main function\n",
    "proba = 0.8\n",
    "util_OFTRL = []\n",
    "for t in range(0,T):\n",
    "    c_t = generate_c(locations,files, caches, utils)\n",
    "    x,z,y,grads,acc_grads,acc_sigma,acc_sigma_action,actions,etas,sigmas,x,acc_grad_square= step(proba,actions,acc_sigma,acc_sigma_action,acc_grads,c_t,etas,x,acc_grad_square)\n",
    "    if t == 0:\n",
    "     z = z.value\n",
    "    util_OFTRL.append(c_t @ z)\n",
    "    print(util_OFTRL)"
   ]
  },
  {
   "cell_type": "code",
   "execution_count": null,
   "id": "4df389ac",
   "metadata": {},
   "outputs": [],
   "source": [
    "util_OFTRL= np.cumsum(util_OFTRL) / np.arange(1, t + 1)\n",
    "plt.figure(figsize=(6.5, 6.5))\n",
    "plt.plot(np.arange(T - 1), util_OFTRL, color='Blue', label=r\"OBC, $\\rho=0.7$\", linewidth=2.5, markevery=1000,marker='d', markersize=12, markeredgecolor='Grey')\n",
    "plt.show()"
   ]
  }
 ],
 "metadata": {
  "kernelspec": {
   "display_name": "Python 3 (ipykernel)",
   "language": "python",
   "name": "python3"
  },
  "language_info": {
   "codemirror_mode": {
    "name": "ipython",
    "version": 3
   },
   "file_extension": ".py",
   "mimetype": "text/x-python",
   "name": "python",
   "nbconvert_exporter": "python",
   "pygments_lexer": "ipython3",
   "version": "3.9.7"
  }
 },
 "nbformat": 4,
 "nbformat_minor": 5
}
