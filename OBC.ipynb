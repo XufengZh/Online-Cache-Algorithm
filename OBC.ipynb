{
  "cells": [
    {
      "cell_type": "code",
      "execution_count": null,
      "id": "66ca44ce",
      "metadata": {
        "id": "66ca44ce"
      },
      "outputs": [],
      "source": [
        "import numpy as np\n",
        "import cvxpy as cp\n",
        "#definition\n",
        "files = 100\n",
        "T = 5000\n",
        "max_cache_size = 20\n",
        "x = cp.Variable(files)\n",
        "utils = np.tile(np.array([1]), (1, files ))[0]\n",
        "grads = []\n",
        "acc_grad = np.zeros(files)\n",
        "acc_r = 0\n",
        "sigmas = []\n",
        "ht = []\n",
        "cost = [1]\n",
        "action = []\n",
        "#problem constraints\n",
        "standard_constraints = [x>=0, x<=1, cp.sum(x)<=max_cache_size]"
      ]
    },
    {
      "cell_type": "code",
      "execution_count": null,
      "id": "34ddba4a",
      "metadata": {
        "id": "34ddba4a"
      },
      "outputs": [],
      "source": [
        "#sigma\n",
        "def calc_sigma(sigmas, ht, grads, pred):\n",
        "  if len(grads)<2:  # no grads yet\n",
        "      ht.append(1)  # for t=0\n",
        "      sigmas.append(1 / ht[-1])  \n",
        "  else:\n",
        "      ht.append(\n",
        "          np.linalg.norm(grads[-2] - pred, 2) ** 2)  \n",
        "      sigmas.append(np.sqrt(sum(ht)) - np.sqrt(sum(ht)-ht[-1]))\n",
        "  return sigmas,ht\n",
        "\n",
        "def generate_cost(files, utils, action):  # this is generating r\n",
        "    r = np.zeros(files) \n",
        "    requested_id = Zipf(1.2, 1, files) - 1\n",
        "    requested_id = int(requested_id)\n",
        "    r[requested_id] = -1\n",
        "    extended_r = np.repeat(r, 1)\n",
        "    grad = utils * extended_r\n",
        "\n",
        "    if len(action) != 0:\n",
        "      cost.append(cost[-1]+1-action[-1][requested_id])\n",
        "\n",
        "    return grad, cost\n",
        "\n",
        "def Zipf(a: np.float64, min: np.uint64, max: np.uint64, size=None):\n",
        "    \"\"\"\n",
        "    Generate Zipf-like random variables,\n",
        "    but in inclusive [min...max] interval\n",
        "    \"\"\"\n",
        "    if min == 0:\n",
        "        raise ZeroDivisionError(\"\")\n",
        "    v = np.arange(min, max + 1)  # values to sample\n",
        "    p = 1.0 / np.power(v, a)  # probabilities\n",
        "    p /= np.sum(p)  # normalized\n",
        "\n",
        "    return np.random.choice(v, size=size, replace=True, p=p)"
      ]
    },
    {
      "cell_type": "code",
      "execution_count": null,
      "id": "241569ed",
      "metadata": {
        "id": "241569ed"
      },
      "outputs": [],
      "source": [
        "def steps(grad,grads,files,action,acc_r,acc_grad,sigmas,ht):\n",
        "  pred = grad\n",
        "\n",
        "  if not action: \n",
        "    yy = cp.sum_squares(x - np.random.rand(files))\n",
        "  else:\n",
        "    acc_r += (sigmas[-1]/2) * cp.sum((x-action[-1])**2)\n",
        "    yy = acc_r + (acc_grad + pred) @ x\n",
        "\n",
        "  objective = cp.Minimize(yy)\n",
        "  problem = cp.Problem(objective, standard_constraints)\n",
        "  result = problem.solve(warm_start=True)\n",
        "\n",
        "  #print(x.value)\n",
        "  action.append(x.value)\n",
        "\n",
        "  grads.append(grad)\n",
        "  acc_grad += grads[-1]\n",
        "  sigmas, ht = calc_sigma(sigmas, ht, grads, pred)\n",
        "\n",
        "  return grads,acc_grad,sigmas,ht,acc_r,action"
      ]
    },
    {
      "cell_type": "code",
      "execution_count": null,
      "id": "e9e762cc",
      "metadata": {
        "scrolled": true,
        "id": "e9e762cc"
      },
      "outputs": [],
      "source": [
        "# main process\n",
        "for i in range(1,T+1):\n",
        "  print(i)\n",
        "  grad, cost = generate_cost(files, utils, action)\n",
        "  grads,acc_grad,sigmas,ht,acc_r,action = steps(grad,grads,files,action,acc_r,acc_grad,sigmas,ht)\n",
        "  if i%100 ==0:\n",
        "    np.save('/content/drive/MyDrive/data online learning/cost_obc.npy',np.array(cost))"
      ]
    },
    {
      "cell_type": "code",
      "source": [
        "from google.colab import drive\n",
        "drive.mount('/content/drive')"
      ],
      "metadata": {
        "colab": {
          "base_uri": "https://localhost:8080/"
        },
        "id": "6JpaeObXtyR5",
        "outputId": "1722de23-8921-476d-b70c-cde3d57fbcb7"
      },
      "id": "6JpaeObXtyR5",
      "execution_count": null,
      "outputs": [
        {
          "output_type": "stream",
          "name": "stdout",
          "text": [
            "Mounted at /content/drive\n"
          ]
        }
      ]
    },
    {
      "cell_type": "code",
      "execution_count": null,
      "id": "836e6fb6",
      "metadata": {
        "id": "836e6fb6"
      },
      "outputs": [],
      "source": [
        "np.save('cost_obc.npy',np.array(cost))"
      ]
    },
    {
      "cell_type": "code",
      "execution_count": null,
      "id": "425b9717",
      "metadata": {
        "id": "425b9717",
        "colab": {
          "base_uri": "https://localhost:8080/",
          "height": 295
        },
        "outputId": "96adaea5-f30a-4cf6-acac-ffbc2413e6c6"
      },
      "outputs": [
        {
          "output_type": "display_data",
          "data": {
            "text/plain": [
              "<Figure size 432x288 with 1 Axes>"
            ],
            "image/png": "[encoded data removed]"
          },
          "metadata": {
            "needs_background": "light"
          }
        }
      ],
      "source": [
        "#figure\n",
        "import numpy as np\n",
        "average_cost_obc = np.load('/content/drive/MyDrive/data online learning/cost_obc.npy')\n",
        "average_cost_pcoc = np.load('/content/drive/MyDrive/data online learning/cost_pcoc.npy')\n",
        "len_obc = len(average_cost_obc)\n",
        "len_pcoc = len(average_cost_pcoc)\n",
        "average_cost_oftrl_obc= average_cost_obc / np.arange(1, len_obc+1)\n",
        "average_cost_oftrl_pcoc= average_cost_pcoc / np.arange(1, len_pcoc+1)\n",
        "\n",
        "import matplotlib as mpl\n",
        "import matplotlib.pyplot as plt\n",
        "\n",
        "plt.title('Different Algrithms')\n",
        "plt.plot(np.array(range(len_obc)), average_cost_oftrl_obc, color='black', label='obc')\n",
        "plt.plot(np.array(range(len_pcoc)), average_cost_oftrl_pcoc, color='red', label='pcoc')\n",
        "plt.legend()\n",
        "\n",
        "plt.xlabel('iteration times')\n",
        "plt.ylabel('average cost')\n",
        "plt.show()"
      ]
    },
    {
      "cell_type": "code",
      "execution_count": null,
      "id": "7c202324",
      "metadata": {
        "id": "7c202324"
      },
      "outputs": [],
      "source": []
    }
  ],
  "metadata": {
    "kernelspec": {
      "display_name": "Python 3 (ipykernel)",
      "language": "python",
      "name": "python3"
    },
    "language_info": {
      "codemirror_mode": {
        "name": "ipython",
        "version": 3
      },
      "file_extension": ".py",
      "mimetype": "text/x-python",
      "name": "python",
      "nbconvert_exporter": "python",
      "pygments_lexer": "ipython3",
      "version": "3.9.7"
    },
    "colab": {
      "provenance": []
    }
  },
  "nbformat": 4,
  "nbformat_minor": 5
}